{
  "cells": [
    {
      "metadata": {
        "collapsed": true
      },
      "cell_type": "markdown",
      "source": "$\\int_0^\\infty e^{-x} dx$"
    },
    {
      "metadata": {
        "trusted": true
      },
      "cell_type": "code",
      "source": "from sympy import *\ninit_printing(use_unicode=False, wrap_line=False)\nx = Symbol('x')\nintegrate(x**2 + x + 1, x)",
      "execution_count": 3,
      "outputs": [
        {
          "output_type": "execute_result",
          "execution_count": 3,
          "data": {
            "image/png": "[encoded data removed]",
            "text/latex": "$$\\frac{x^{3}}{3} + \\frac{x^{2}}{2} + x$$",
            "text/plain": " 3    2    \nx    x     \n-- + -- + x\n3    2     "
          },
          "metadata": {}
        }
      ]
    },
    {
      "metadata": {
        "trusted": true
      },
      "cell_type": "code",
      "source": "integrate(exp(-x), x)",
      "execution_count": 4,
      "outputs": [
        {
          "output_type": "execute_result",
          "execution_count": 4,
          "data": {
            "image/png": "[encoded data removed]",
            "text/latex": "$$- e^{- x}$$",
            "text/plain": "  -x\n-e  "
          },
          "metadata": {}
        }
      ]
    },
    {
      "metadata": {
        "trusted": true
      },
      "cell_type": "code",
      "source": "integrate(exp(-x),(x,1,+oo))",
      "execution_count": 8,
      "outputs": [
        {
          "output_type": "execute_result",
          "execution_count": 8,
          "data": {
            "image/png": "[encoded data removed]",
            "text/latex": "$$e^{-1}$$",
            "text/plain": " -1\ne  "
          },
          "metadata": {}
        }
      ]
    }
  ],
  "metadata": {
    "kernelspec": {
      "name": "python36",
      "display_name": "Python 3.6",
      "language": "python"
    },
    "language_info": {
      "mimetype": "text/x-python",
      "nbconvert_exporter": "python",
      "name": "python",
      "pygments_lexer": "ipython3",
      "version": "3.6.6",
      "file_extension": ".py",
      "codemirror_mode": {
        "version": 3,
        "name": "ipython"
      }
    }
  },
  "nbformat": 4,
  "nbformat_minor": 2
}