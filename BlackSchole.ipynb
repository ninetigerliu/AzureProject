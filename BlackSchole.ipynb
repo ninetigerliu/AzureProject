{
  "cells": [
    {
      "metadata": {},
      "cell_type": "markdown",
      "source": "# BlackSchole Formulas"
    },
    {
      "metadata": {},
      "cell_type": "markdown",
      "source": "The Black–Scholes formula calculates the price of European put and call options. In this model, the price of the underlying asset follows a geometric Brownian motion:\n$$ \\frac{dS}{S} = \\mu dt + \\sigma dW $$\nwhere\n* $S(t)$, the price of the underlying stock at time $t$\n* $\\mu$, the drift.\n* $\\sigma$, volatility. the stand deviative of the stock's returns.\n\nThis price is consistent with the Black–Scholes equation:\n$$ \\frac{\\partial V}{\\partial t} + \\frac{1}{2}\\sigma^2 S^2 \\frac{\\partial^2 V}{\\partial S^2} + (r-q-b) S\\frac{\\partial V}{\\partial S} - r V = 0 $$\nwhere\n* $V(S,t)$, the price of the option as a functio nof the underlying asset $S$ and $t$\n* $r, q$ and $b$, the risk free interest rate, continuous divident rate and borrow rate, respectively.\n        \nThe Value of a call(put) option for a underlying stock can be obtained by solving the equation for the corresponding terminal and boundary conditions: \n\\begin{align}\n     C(S, t) = &N(d_1)S e^{-(q+b)t} - N(d_2)Ke^{-r t} \\\\\n     P(S, t) = &N(-d_2)Ke^{-rt} - N(-d_1)S  e^{-(q+b)t}  \n\\end{align}\nwhere\n* $S$ is the stock price at time 0\n* $K$ is the strike\n* $ d_1 = \\frac{\\ln(\\frac{S}{K}) + (r-q-b + \\frac{1}{2} \\sigma^2 )t}{\\sigma \\sqrt{t}}$\n* $ d_2 = d_1 -\\sigma \\sqrt{t} $"
    },
    {
      "metadata": {
        "trusted": true
      },
      "cell_type": "code",
      "source": "import numpy as np\nfrom scipy.stats import norm\n\n#%% vannilla call and put\ndef BS( CPFlag, s, k, t, sigma, r, q, b):\n\n    stdDev = sigma*np.sqrt(t)\n    d1 = (np.log(s/k) + ( r - q - b + 0.5*sigma*sigma)*t)/stdDev\n    d2 = d1 - stdDev  \n    \n    df = np.exp(-r*t)\n    dfCost = np.exp(-(q+b)*t)\n    cdfD1 = norm.cdf(CPFlag*d1)\n    cdfD2 = norm.cdf(CPFlag*d2)\n    #print('cdfD1='+str(format(cdfD1,'.15f')))\n    phi = norm.pdf(d1)\n    res = {}\n    res['NPV'] = CPFlag*(s*dfCost*cdfD1 - k*df*cdfD2)\n    res['delta'] = CPFlag*dfCost*cdfD1\n    res['gamma'] = dfCost*phi/s/stdDev\n    res['theta'] = -dfCost*s*phi*sigma/2/np.sqrt(t) -CPFlag*r*k*df*norm.cdf(CPFlag*d2) + CPFlag*(q+b)*s*dfCost*norm.cdf(CPFlag*d1)\n    res['vega'] = dfCost*s*phi*np.sqrt(t)\n    return res;",
      "execution_count": 40,
      "outputs": []
    },
    {
      "metadata": {
        "trusted": true
      },
      "cell_type": "code",
      "source": "#%%\nCPFlag = -1.0;\ns = 100.0;\nk = 90.0;\nr = 0.05;\nq = 0.01;\nb = 0.0;\nt = 1.;  #in years\nvol = 0.25;\ndf = np.exp(-r*t)\nf = s/df;\nnpv = BS(CPFlag, s, k, t, vol, r, q, b);\nds = 1e-4\nnpv1 = BS(CPFlag, s+ds, k, t, vol, r, q, b)\nnpv2 = BS(CPFlag, s-ds, k, t, vol, r, q, b)\ndt = 1e-6\nnpvdt = BS(CPFlag, s, k, t+dt, vol, r, q, b)\ndvol = 1e-6\nnpvdvol = BS(CPFlag, s, k, t, vol+dvol, r, q, b)\nprint(\"gamma new = \" + str((npv1['NPV'] - 2*npv['NPV']+npv2['NPV'])/ds/ds ))\nprint(\"vega new = \" + str((npvdvol['NPV'] - npv['NPV'])/dt ))\nprint(\"theta new = \" + str(-(npvdt['NPV'] - npv['NPV'])/dt ))\nprint(\"delta new = \" + str((npv1['NPV'] - npv2['NPV'])/ds/2 ))\nprint ( npv );",
      "execution_count": 49,
      "outputs": [
        {
          "output_type": "stream",
          "text": "gamma new = 0.012309797625675856\nvega new = 30.774982505477055\ntheta new = -2.6973915012717953\ndelta new = -0.23756902697513738\n{'NPV': 3.984034631615504, 'gamma': 0.012309985065338749, 'vega': 30.77496266334687, 'theta': -2.697392493434329, 'delta': -0.2375690269758136}\n",
          "name": "stdout"
        }
      ]
    }
  ],
  "metadata": {
    "kernelspec": {
      "name": "python3",
      "display_name": "Python 3",
      "language": "python"
    },
    "language_info": {
      "mimetype": "text/x-python",
      "nbconvert_exporter": "python",
      "name": "python",
      "pygments_lexer": "ipython3",
      "version": "3.5.4",
      "file_extension": ".py",
      "codemirror_mode": {
        "version": 3,
        "name": "ipython"
      }
    }
  },
  "nbformat": 4,
  "nbformat_minor": 1
}