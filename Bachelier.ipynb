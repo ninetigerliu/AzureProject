{
  "cells": [
    {
      "metadata": {},
      "cell_type": "markdown",
      "source": "# Bachelier model"
    },
    {
      "metadata": {},
      "cell_type": "markdown",
      "source": "The Bachier formula calculates the price of European put and call options. In this model, the price of the underlying asset follows a geometric Brownian motion:\n$$ dS = r dt + \\sigma dW $$\nwhere\n* $S(t)$, the price of the underlying stock at time $t$\n* $r$, the constant interest rate.\n* $\\sigma$, volatility. the stand deviative of the stock's returns.\n\nThis price is consistent with the PDE:\n$$ \\frac{\\partial V}{\\partial t} + \\frac{1}{2}\\sigma^2 \\frac{\\partial^2 V}{\\partial S^2} + r S\\frac{\\partial V}{\\partial S} - r V = 0 $$\nwhere\n* $V(S,t)$, the price of the option as a functio nof the underlying asset $S$ and $t$\n        \nThe Value of a call(put) option for a underlying stock can be obtained by solving the equation for the corresponding terminal and boundary conditions: \n\\begin{align}\n     V(S, t) = e^{-rt}\\big(\\delta (F-K)\\Phi(\\delta d_1) + \\sigma\\sqrt{t} \\phi(d_1) \\big)\n\\end{align}\nwhere\n* $\\delta=\\pm 1$ is call and put flag, respectively\n* $F=S e^{rt}$ is the forward price\n* $K$ is the strike\n* $ d_1 = \\frac{1}{\\sigma \\sqrt{t}}(F-K)$\n* $ \\Phi(x) = \\frac{1}{\\sqrt{2\\pi}}\\int_\\infty^x e^{-t^2/2} dt $ is the cumulative distribution function of a standard normal distribution with zero mean and unit variance\n* $ \\phi(x) = \\frac{1}{\\sqrt{2\\pi}} e^{-x^2/2} $ is the probability density function of a standard normal distribution with zero mean and unit variance"
    },
    {
      "metadata": {
        "trusted": true
      },
      "cell_type": "code",
      "source": "import numpy as np\nfrom scipy.stats import norm\n\n#%% vannilla call and put\ndef Bachelier( CPFlag, s, k, t, sigma, r, isForwardPrice=False):\n    \n    f = s*np.exp(r*t)\n    d1 = 1/np.sqrt(sigma*sigma*t)*(f-k)\n    \n    if isForwardPrice==False:\n        df = np.exp(-r*t)\n    else:\n        df = 1.0\n        \n    res = {}\n    phi = 1./np.sqrt(2*np.pi)*np.exp(-d1*d1/2)\n    stdDev = sigma*np.sqrt(t)\n    res['NPV'] = df*(CPFlag*(f-k)*norm.cdf(CPFlag*d1) + stdDev*phi)\n    res['delta'] = CPFlag*df*norm.cdf(CPFlag*d1)\n    res['gamma'] = df/stdDev*phi\n    res['theta'] = -df * sigma * 0.5 / np.sqrt(t) * phi\n    res['vega'] = df * phi * np.sqrt(t)\n    return res;",
      "execution_count": 1,
      "outputs": []
    },
    {
      "metadata": {
        "trusted": true
      },
      "cell_type": "code",
      "source": "#%%\nCPFlag = -1.0;\nf = 10.0;\nr = 0.03;\nvol = 0.02;\nt = 2;\nk = 10.01;\ns = f/np.exp(r*t);\nres = Bachelier(CPFlag, s, k, t, vol, r);\n#print ( npv );\n#npv = Bachelier(CPFlag, s, k, t, vol, r, True);\nprint ( res );",
      "execution_count": 11,
      "outputs": [
        {
          "output_type": "stream",
          "text": "{'NPV': 0.015992831759136256, 'delta': -0.6009994637690261, 'gamma': 12.478546401807654, 'theta': -0.002495709280361531, 'vega': 0.4991418560723062}\n",
          "name": "stdout"
        }
      ]
    }
  ],
  "metadata": {
    "kernelspec": {
      "name": "python36",
      "display_name": "Python 3.6",
      "language": "python"
    },
    "language_info": {
      "mimetype": "text/x-python",
      "nbconvert_exporter": "python",
      "name": "python",
      "pygments_lexer": "ipython3",
      "version": "3.6.6",
      "file_extension": ".py",
      "codemirror_mode": {
        "version": 3,
        "name": "ipython"
      }
    }
  },
  "nbformat": 4,
  "nbformat_minor": 1
}